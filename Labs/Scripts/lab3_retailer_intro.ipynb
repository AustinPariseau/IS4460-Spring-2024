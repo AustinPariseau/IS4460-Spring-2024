{
  "cells": [
    {
      "cell_type": "markdown",
      "metadata": {
        "id": "4IeiCleErL1v"
      },
      "source": [
        "# IS 4487 Lab 3\n",
        "\n",
        "## Outline\n",
        "\n",
        "Repeat exercises from Lab 2, but with the *SuperStore Retail Orders* dataset\n",
        "- Loading installed packages\n",
        "- Inspect data\n",
        "- Explore plot types\n",
        "\n",
        "<a href=\"https://colab.research.google.com/github/Stan-Pugsley/is_4487_base/blob/main/Labs/Scripts/lab3_retailer_intro.ipynb\" target=\"_parent\"><img src=\"https://colab.research.google.com/assets/colab-badge.svg\" alt=\"Open In Colab\"/></a>"
      ]
    },
    {
      "cell_type": "markdown",
      "metadata": {
        "id": "nClkxgSerL1z"
      },
      "source": [
        "## Load Libraries\n",
        "\n",
        "➡️ Assignment Tasks\n",
        "- Load any necessary libraries"
      ]
    },
    {
      "cell_type": "code",
      "execution_count": 1,
      "metadata": {
        "vscode": {
          "languageId": "plaintext"
        },
        "id": "8l5SZuGtrL10"
      },
      "outputs": [],
      "source": [
        "import pandas as pd"
      ]
    },
    {
      "cell_type": "markdown",
      "metadata": {
        "id": "whbVVewprL10"
      },
      "source": [
        "## Import Data into Dataframe\n",
        "\n",
        "➡️ Assignment Tasks\n",
        "- Import data from the SuperStore retail dataset into a dataframe (in GitHub go to Labs > DataSets)\n",
        "- Describe or profile the dataframe"
      ]
    },
    {
      "cell_type": "code",
      "source": [
        "from google.colab import drive\n",
        "drive.mount('/content/drive')\n",
        "\n",
        "df = pd.read_csv('/content/drive/MyDrive/IS 4487 Colab/superstore_retail_orders.csv')\n",
        "\n",
        "df.describe"
      ],
      "metadata": {
        "id": "sARkntjPsp38",
        "outputId": "b08142b1-6a37-4f60-d878-1cc3b3b0f812",
        "colab": {
          "base_uri": "https://localhost:8080/"
        }
      },
      "execution_count": 2,
      "outputs": [
        {
          "output_type": "stream",
          "name": "stdout",
          "text": [
            "Drive already mounted at /content/drive; to attempt to forcibly remount, call drive.mount(\"/content/drive\", force_remount=True).\n"
          ]
        },
        {
          "output_type": "execute_result",
          "data": {
            "text/plain": [
              "<bound method NDFrame.describe of       customer_id      customer_name          address_line_1          city  \\\n",
              "0              67      Gordy Matteau     59 Northland Circle    Wilmington   \n",
              "1             201     Cort Paskerful         769 Buell Drive    Huntsville   \n",
              "2              45    Willetta Lumley       41 Ridgeway Alley        Irvine   \n",
              "3             106   Alison Batterton           489 Erie Hill      Richmond   \n",
              "4             357  Martelle Paxeford    451 Manitowish Place      Richmond   \n",
              "...           ...                ...                     ...           ...   \n",
              "9564          637  Jayson Andriessen  0819 Crownhardt Circle     Allentown   \n",
              "9565          370    Darby Tesseyman     7468 Jackson Circle        Albany   \n",
              "9566          598   Henka De Ferrari      89 Sunnyside Drive  Redwood City   \n",
              "9567          737    Tommie Penvarne    9630 Washington Hill     Watertown   \n",
              "9568          482       Matelda Bull      6406 Bultman Alley  Gaithersburg   \n",
              "\n",
              "      state_province  postal_code  order_id  order_date  customer_id.1  \\\n",
              "0                DE       19805.0      1001  2020-01-11             67   \n",
              "1                AL       35810.0      1002  2019-11-22            201   \n",
              "2                CA       92612.0      1003  2019-09-17             45   \n",
              "3                VA       23293.0      1004  2019-12-09            106   \n",
              "4                VA       23293.0      1005  2019-06-08            357   \n",
              "...              ...          ...       ...         ...            ...   \n",
              "9564  Pennsylvania            NaN      8143  2021-06-13            637   \n",
              "9565             NY       12210.0      8144  2021-06-16            370   \n",
              "9566     California       94064.0      8145  2021-05-09            598   \n",
              "9567  Massachusetts        2472.0      8146  2021-04-13            737   \n",
              "9568       Maryland       20883.0      8147  2021-03-21            482   \n",
              "\n",
              "      order_id.1  product_id  quantity  product_id.1            product_name  \\\n",
              "0           1001         106       3.0           106       Great value Juice   \n",
              "1           1002         104       2.0           104                    Desk   \n",
              "2           1003         107       5.0           107          Dove deodorant   \n",
              "3           1004         106       8.0           106       Great value Juice   \n",
              "4           1005         107       7.0           107          Dove deodorant   \n",
              "...          ...         ...       ...           ...                     ...   \n",
              "9564        8143         113      16.0           113          Extension cord   \n",
              "9565        8144         109       1.0           109  Samsung Galaxy Note 10   \n",
              "9566        8145         110       1.0           110         Apple iPad Mini   \n",
              "9567        8146         113       2.0           113          Extension cord   \n",
              "9568        8147         113       5.0           113          Extension cord   \n",
              "\n",
              "     product_price total_amount order_year_month order_month  \n",
              "0            $1.99        $5.97          2020-01    January   \n",
              "1           $85.98      $171.96          2019-11   November   \n",
              "2            $3.99       $19.95          2019-09   September  \n",
              "3            $1.99       $15.92          2019-12   December   \n",
              "4            $3.99       $27.93          2019-06       June   \n",
              "...            ...          ...              ...         ...  \n",
              "9564        $15.59      $249.44          2021-06       June   \n",
              "9565       $749.99      $749.99          2021-06       June   \n",
              "9566       $329.99      $329.99          2021-05        May   \n",
              "9567        $15.59       $31.18          2021-04      April   \n",
              "9568        $15.59       $77.95          2021-03      March   \n",
              "\n",
              "[9569 rows x 18 columns]>"
            ]
          },
          "metadata": {},
          "execution_count": 2
        }
      ]
    },
    {
      "cell_type": "markdown",
      "metadata": {
        "id": "ucC9AnLmrL11"
      },
      "source": [
        "## Prepare Data\n",
        "\n",
        "➡️ Assignment Tasks\n",
        "- Convert the Total_Amount into a number (not a string)\n",
        "- Remove rows with empty (NULL) values\n",
        "- Optional: Locate outliers in any of the variables.   Filter them out if they are mistakes; keep them if they are exceptional cases."
      ]
    },
    {
      "cell_type": "code",
      "execution_count": 3,
      "metadata": {
        "vscode": {
          "languageId": "plaintext"
        },
        "id": "F3x6NdOPrL11",
        "outputId": "05dda38c-43d0-47ab-9efa-d80bdbc2830d",
        "colab": {
          "base_uri": "https://localhost:8080/"
        }
      },
      "outputs": [
        {
          "output_type": "stream",
          "name": "stderr",
          "text": [
            "<ipython-input-3-4542b2e308c5>:2: FutureWarning: The default value of regex will change from True to False in a future version. In addition, single character regular expressions will *not* be treated as literal strings when regex=True.\n",
            "  df['total_amount'] = pd.to_numeric(df['total_amount'].str.replace('$', ''), errors='coerce')\n"
          ]
        },
        {
          "output_type": "execute_result",
          "data": {
            "text/plain": [
              "<bound method NDFrame.describe of       customer_id      customer_name        address_line_1          city  \\\n",
              "0              67      Gordy Matteau   59 Northland Circle    Wilmington   \n",
              "1             201     Cort Paskerful       769 Buell Drive    Huntsville   \n",
              "2              45    Willetta Lumley     41 Ridgeway Alley        Irvine   \n",
              "3             106   Alison Batterton         489 Erie Hill      Richmond   \n",
              "4             357  Martelle Paxeford  451 Manitowish Place      Richmond   \n",
              "...           ...                ...                   ...           ...   \n",
              "9561          240     Barnard Hatley        5541 Kim Alley        Duluth   \n",
              "9565          370    Darby Tesseyman   7468 Jackson Circle        Albany   \n",
              "9566          598   Henka De Ferrari    89 Sunnyside Drive  Redwood City   \n",
              "9567          737    Tommie Penvarne  9630 Washington Hill     Watertown   \n",
              "9568          482       Matelda Bull    6406 Bultman Alley  Gaithersburg   \n",
              "\n",
              "      state_province  postal_code  order_id  order_date  customer_id.1  \\\n",
              "0                DE       19805.0      1001  2020-01-11             67   \n",
              "1                AL       35810.0      1002  2019-11-22            201   \n",
              "2                CA       92612.0      1003  2019-09-17             45   \n",
              "3                VA       23293.0      1004  2019-12-09            106   \n",
              "4                VA       23293.0      1005  2019-06-08            357   \n",
              "...              ...          ...       ...         ...            ...   \n",
              "9561             GA       30195.0      8140  2021-03-04            240   \n",
              "9565             NY       12210.0      8144  2021-06-16            370   \n",
              "9566     California       94064.0      8145  2021-05-09            598   \n",
              "9567  Massachusetts        2472.0      8146  2021-04-13            737   \n",
              "9568       Maryland       20883.0      8147  2021-03-21            482   \n",
              "\n",
              "      order_id.1  product_id  quantity  product_id.1            product_name  \\\n",
              "0           1001         106       3.0           106       Great value Juice   \n",
              "1           1002         104       2.0           104                    Desk   \n",
              "2           1003         107       5.0           107          Dove deodorant   \n",
              "3           1004         106       8.0           106       Great value Juice   \n",
              "4           1005         107       7.0           107          Dove deodorant   \n",
              "...          ...         ...       ...           ...                     ...   \n",
              "9561        8140         110       1.0           110         Apple iPad Mini   \n",
              "9565        8144         109       1.0           109  Samsung Galaxy Note 10   \n",
              "9566        8145         110       1.0           110         Apple iPad Mini   \n",
              "9567        8146         113       2.0           113          Extension cord   \n",
              "9568        8147         113       5.0           113          Extension cord   \n",
              "\n",
              "     product_price  total_amount order_year_month order_month  \n",
              "0            $1.99          5.97          2020-01    January   \n",
              "1           $85.98        171.96          2019-11   November   \n",
              "2            $3.99         19.95          2019-09   September  \n",
              "3            $1.99         15.92          2019-12   December   \n",
              "4            $3.99         27.93          2019-06       June   \n",
              "...            ...           ...              ...         ...  \n",
              "9561       $329.99        329.99          2021-03      March   \n",
              "9565       $749.99        749.99          2021-06       June   \n",
              "9566       $329.99        329.99          2021-05        May   \n",
              "9567        $15.59         31.18          2021-04      April   \n",
              "9568        $15.59         77.95          2021-03      March   \n",
              "\n",
              "[8768 rows x 18 columns]>"
            ]
          },
          "metadata": {},
          "execution_count": 3
        }
      ],
      "source": [
        "df['total_amount'] = df['total_amount'].astype(str)\n",
        "df['total_amount'] = pd.to_numeric(df['total_amount'].str.replace('$', ''), errors='coerce')\n",
        "df['total_amount'] = df['total_amount'].astype(float)\n",
        "\n",
        "df.dropna(inplace=True)\n",
        "\n",
        "df.describe\n"
      ]
    },
    {
      "cell_type": "markdown",
      "metadata": {
        "id": "D1ier9pBrL11"
      },
      "source": [
        "## Summarize Data\n",
        "\n",
        "➡️ Assignment Tasks\n",
        "- Display the average price per month\n",
        "- Display the total revenue for all months"
      ]
    },
    {
      "cell_type": "code",
      "execution_count": 4,
      "metadata": {
        "vscode": {
          "languageId": "plaintext"
        },
        "id": "6fFEvLfRrL12",
        "outputId": "7b1700f3-f0e5-4f70-b942-9b28a36a4ad4",
        "colab": {
          "base_uri": "https://localhost:8080/"
        }
      },
      "outputs": [
        {
          "output_type": "stream",
          "name": "stdout",
          "text": [
            "   order_month  product_price\n",
            "0       April      283.353629\n",
            "1     August       281.035153\n",
            "2    December      272.788711\n",
            "3    February      275.045241\n",
            "4     January      256.511585\n",
            "5        July      259.191480\n",
            "6        June      293.517014\n",
            "7       March      262.732020\n",
            "8         May      281.397497\n",
            "9    November      265.129650\n",
            "10    October      315.839916\n",
            "11   September     285.795066\n"
          ]
        }
      ],
      "source": [
        "#average price\n",
        "\n",
        "df['product_price'] = df['product_price'].replace('[\\$,]', '', regex=True).astype(float)\n",
        "average_price_per_month = df.groupby('order_month')['product_price'].mean().reset_index()\n",
        "\n",
        "print(average_price_per_month)"
      ]
    },
    {
      "cell_type": "code",
      "execution_count": 11,
      "metadata": {
        "vscode": {
          "languageId": "plaintext"
        },
        "id": "sBBZ6e4mrL12",
        "outputId": "2d299930-a165-4d3a-ea4f-26fed0d6f89c",
        "colab": {
          "base_uri": "https://localhost:8080/"
        }
      },
      "outputs": [
        {
          "output_type": "stream",
          "name": "stdout",
          "text": [
            "Total Revenue: $2748529.89\n"
          ]
        }
      ],
      "source": [
        "#total revenue\n",
        "df['total_amount'] = df['total_amount'].replace('[\\$,]', '', regex=True).astype(float)\n",
        "\n",
        "total_revenue_all_months = df['total_amount'].sum()\n",
        "\n",
        "print(\"Total Revenue: ${:.2f}\".format(total_revenue_all_months))\n"
      ]
    }
  ],
  "metadata": {
    "language_info": {
      "name": "python"
    },
    "colab": {
      "provenance": []
    },
    "kernelspec": {
      "name": "python3",
      "display_name": "Python 3"
    }
  },
  "nbformat": 4,
  "nbformat_minor": 0
}